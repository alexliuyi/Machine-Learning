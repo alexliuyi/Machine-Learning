{
 "cells": [
  {
   "cell_type": "markdown",
   "metadata": {},
   "source": [
    "Data Scientist Screening Exercise"
   ]
  },
  {
   "cell_type": "code",
   "execution_count": 1,
   "metadata": {},
   "outputs": [],
   "source": [
    "#Import data\n",
    "import pandas as pd\n",
    "data = pd.read_csv(\"C:/Users/alexliuyi/Documents/LAHealth/model_outcome.csv\")"
   ]
  },
  {
   "cell_type": "code",
   "execution_count": 3,
   "metadata": {},
   "outputs": [
    {
     "data": {
      "text/html": [
       "<div>\n",
       "<style scoped>\n",
       "    .dataframe tbody tr th:only-of-type {\n",
       "        vertical-align: middle;\n",
       "    }\n",
       "\n",
       "    .dataframe tbody tr th {\n",
       "        vertical-align: top;\n",
       "    }\n",
       "\n",
       "    .dataframe thead th {\n",
       "        text-align: right;\n",
       "    }\n",
       "</style>\n",
       "<table border=\"1\" class=\"dataframe\">\n",
       "  <thead>\n",
       "    <tr style=\"text-align: right;\">\n",
       "      <th></th>\n",
       "      <th>index</th>\n",
       "      <th>class</th>\n",
       "      <th>predicted_prob</th>\n",
       "    </tr>\n",
       "  </thead>\n",
       "  <tbody>\n",
       "    <tr>\n",
       "      <th>0</th>\n",
       "      <td>1</td>\n",
       "      <td>0</td>\n",
       "      <td>0.592837</td>\n",
       "    </tr>\n",
       "    <tr>\n",
       "      <th>1</th>\n",
       "      <td>2</td>\n",
       "      <td>1</td>\n",
       "      <td>0.624829</td>\n",
       "    </tr>\n",
       "    <tr>\n",
       "      <th>2</th>\n",
       "      <td>3</td>\n",
       "      <td>0</td>\n",
       "      <td>0.073848</td>\n",
       "    </tr>\n",
       "    <tr>\n",
       "      <th>3</th>\n",
       "      <td>4</td>\n",
       "      <td>1</td>\n",
       "      <td>0.544891</td>\n",
       "    </tr>\n",
       "    <tr>\n",
       "      <th>4</th>\n",
       "      <td>5</td>\n",
       "      <td>0</td>\n",
       "      <td>0.015118</td>\n",
       "    </tr>\n",
       "  </tbody>\n",
       "</table>\n",
       "</div>"
      ],
      "text/plain": [
       "   index  class  predicted_prob\n",
       "0      1      0        0.592837\n",
       "1      2      1        0.624829\n",
       "2      3      0        0.073848\n",
       "3      4      1        0.544891\n",
       "4      5      0        0.015118"
      ]
     },
     "execution_count": 3,
     "metadata": {},
     "output_type": "execute_result"
    }
   ],
   "source": [
    "#Check data\n",
    "data.head()"
   ]
  },
  {
   "cell_type": "code",
   "execution_count": 10,
   "metadata": {},
   "outputs": [
    {
     "data": {
      "text/plain": [
       "(1000, 3)"
      ]
     },
     "execution_count": 10,
     "metadata": {},
     "output_type": "execute_result"
    }
   ],
   "source": [
    "#Check number of features and observations\n",
    "data.shape"
   ]
  },
  {
   "cell_type": "code",
   "execution_count": 9,
   "metadata": {},
   "outputs": [
    {
     "data": {
      "text/html": [
       "<div>\n",
       "<style scoped>\n",
       "    .dataframe tbody tr th:only-of-type {\n",
       "        vertical-align: middle;\n",
       "    }\n",
       "\n",
       "    .dataframe tbody tr th {\n",
       "        vertical-align: top;\n",
       "    }\n",
       "\n",
       "    .dataframe thead th {\n",
       "        text-align: right;\n",
       "    }\n",
       "</style>\n",
       "<table border=\"1\" class=\"dataframe\">\n",
       "  <thead>\n",
       "    <tr style=\"text-align: right;\">\n",
       "      <th></th>\n",
       "      <th>index</th>\n",
       "      <th>class</th>\n",
       "      <th>predicted_prob</th>\n",
       "    </tr>\n",
       "  </thead>\n",
       "  <tbody>\n",
       "    <tr>\n",
       "      <th>count</th>\n",
       "      <td>1000.000000</td>\n",
       "      <td>1000.000000</td>\n",
       "      <td>1000.000000</td>\n",
       "    </tr>\n",
       "    <tr>\n",
       "      <th>mean</th>\n",
       "      <td>500.500000</td>\n",
       "      <td>0.492000</td>\n",
       "      <td>0.510150</td>\n",
       "    </tr>\n",
       "    <tr>\n",
       "      <th>std</th>\n",
       "      <td>288.819436</td>\n",
       "      <td>0.500186</td>\n",
       "      <td>0.263700</td>\n",
       "    </tr>\n",
       "    <tr>\n",
       "      <th>min</th>\n",
       "      <td>1.000000</td>\n",
       "      <td>0.000000</td>\n",
       "      <td>0.000967</td>\n",
       "    </tr>\n",
       "    <tr>\n",
       "      <th>25%</th>\n",
       "      <td>250.750000</td>\n",
       "      <td>0.000000</td>\n",
       "      <td>0.313266</td>\n",
       "    </tr>\n",
       "    <tr>\n",
       "      <th>50%</th>\n",
       "      <td>500.500000</td>\n",
       "      <td>0.000000</td>\n",
       "      <td>0.515382</td>\n",
       "    </tr>\n",
       "    <tr>\n",
       "      <th>75%</th>\n",
       "      <td>750.250000</td>\n",
       "      <td>1.000000</td>\n",
       "      <td>0.702314</td>\n",
       "    </tr>\n",
       "    <tr>\n",
       "      <th>max</th>\n",
       "      <td>1000.000000</td>\n",
       "      <td>1.000000</td>\n",
       "      <td>0.994258</td>\n",
       "    </tr>\n",
       "  </tbody>\n",
       "</table>\n",
       "</div>"
      ],
      "text/plain": [
       "             index        class  predicted_prob\n",
       "count  1000.000000  1000.000000     1000.000000\n",
       "mean    500.500000     0.492000        0.510150\n",
       "std     288.819436     0.500186        0.263700\n",
       "min       1.000000     0.000000        0.000967\n",
       "25%     250.750000     0.000000        0.313266\n",
       "50%     500.500000     0.000000        0.515382\n",
       "75%     750.250000     1.000000        0.702314\n",
       "max    1000.000000     1.000000        0.994258"
      ]
     },
     "execution_count": 9,
     "metadata": {},
     "output_type": "execute_result"
    }
   ],
   "source": [
    "#Check Missing: No missing value\n",
    "data.describe()"
   ]
  },
  {
   "cell_type": "markdown",
   "metadata": {},
   "source": [
    "Task 1:\n",
    "Manually calculate the sensitivity and specificity of the model, using a predicted_prob threshold of greater than or equal to .5."
   ]
  },
  {
   "cell_type": "code",
   "execution_count": 11,
   "metadata": {},
   "outputs": [],
   "source": [
    "# Create a function to calculate the FPR and TPR at different cut point.\n",
    "import numpy as np\n",
    "\n",
    "def FPR_RPR_Calculator(threshold):\n",
    "    # Calculate predicted class with prob\n",
    "    data[\"predicted_class\"] = np.where(data.predicted_prob >= threshold, 1,0)\n",
    "    \n",
    "    # Create confusion matrix \n",
    "    data[\"TP\"] = np.where((data[\"class\"]==1) & (data[\"predicted_class\"]==1), 1,0)\n",
    "    data[\"FN\"] = np.where((data[\"class\"]==1) & (data[\"predicted_class\"]!=1), 1,0)\n",
    "    data[\"FP\"] = np.where((data[\"class\"]!=1) & (data[\"predicted_class\"]==1), 1,0)\n",
    "    data[\"TN\"] = np.where((data[\"class\"]!=1) & (data[\"predicted_class\"]!=1), 1,0)\n",
    "    \n",
    "    TP = np.sum(data.TP)\n",
    "    FN = np.sum(data.FN)\n",
    "    FP = np.sum(data.FP)\n",
    "    TN = np.sum(data.TN)\n",
    "    \n",
    "    # Calculate sensitivity\n",
    "    sensitivity = TP/(TP+FN)\n",
    "    # Calculate specificity\n",
    "    specificity = TN/(TN+FP)\n",
    "    # Return FPR and TPR\n",
    "    return round(1-specificity,4),round(sensitivity,4)"
   ]
  },
  {
   "cell_type": "code",
   "execution_count": 12,
   "metadata": {},
   "outputs": [
    {
     "name": "stdout",
     "output_type": "stream",
     "text": [
      "Sensitivity of the model is 0.8171\n",
      "Specificity of the model is 0.7579\n"
     ]
    }
   ],
   "source": [
    "# Calculate sensitivity and specificity when threshold = 0.5\n",
    "FPR, TPR = FPR_RPR_Calculator(0.5)\n",
    "\n",
    "print(\"Sensitivity of the model is %.4f\"% TPR)\n",
    "print(\"Specificity of the model is %.4f\"% (1-FPR))"
   ]
  },
  {
   "cell_type": "markdown",
   "metadata": {},
   "source": [
    "Task 2:\n",
    "Manually calculate the Area Under the Receiver Operating Characteristic Curve."
   ]
  },
  {
   "cell_type": "code",
   "execution_count": 13,
   "metadata": {},
   "outputs": [
    {
     "name": "stdout",
     "output_type": "stream",
     "text": [
      "The AUC of the model is: 0.8886\n"
     ]
    }
   ],
   "source": [
    "# Create 1000 cut point between 0 and 1\n",
    "threshold = np.linspace(1,0,1000)\n",
    "\n",
    "# Create empty list for FPR and TPR\n",
    "FPR = list()\n",
    "TPR = list()\n",
    "\n",
    "# For each cup point, calculate FPR and TPR and append them to above empty list\n",
    "for i in threshold:\n",
    "    temp_FPR, temp_TPR = FPR_RPR_Calculator(i)\n",
    "    FPR.append(temp_FPR)\n",
    "    TPR.append(temp_TPR)\n",
    "    \n",
    "# Transfer lists to numpp array\n",
    "FPR = np.array(FPR)\n",
    "TPR = np.array(TPR)   \n",
    "\n",
    "# Caluculate AUC \n",
    "AUC = 1/2*np.sum((FPR[1:]-FPR[0:-1])*(TPR[0:-1]+TPR[1:]))\n",
    "\n",
    "# Print result\n",
    "print(\"The AUC of the model is: %.4f\"%AUC)"
   ]
  },
  {
   "cell_type": "markdown",
   "metadata": {},
   "source": [
    "Task 3:\n",
    "Visualize the Receiver Operating Characterstic Curve."
   ]
  },
  {
   "cell_type": "code",
   "execution_count": 14,
   "metadata": {},
   "outputs": [
    {
     "data": {
      "image/png": "[encoded data removed]",
      "text/plain": [
       "<Figure size 432x288 with 1 Axes>"
      ]
     },
     "metadata": {
      "needs_background": "light"
     },
     "output_type": "display_data"
    }
   ],
   "source": [
    "%matplotlib inline\n",
    "import matplotlib.pyplot as plt\n",
    "fig = plt.figure()\n",
    "ax = fig.add_subplot(111)\n",
    "ax.plot(FPR, TPR)\n",
    "ax.set(title = 'ROC Curve for the Baseline Model',\n",
    "       xlabel = 'False Positive Rate',\n",
    "       ylabel = 'True Positive Rate')\n",
    "plt.show()"
   ]
  },
  {
   "cell_type": "code",
   "execution_count": null,
   "metadata": {},
   "outputs": [],
   "source": []
  }
 ],
 "metadata": {
  "kernelspec": {
   "display_name": "Python 3",
   "language": "python",
   "name": "python3"
  },
  "language_info": {
   "codemirror_mode": {
    "name": "ipython",
    "version": 3
   },
   "file_extension": ".py",
   "mimetype": "text/x-python",
   "name": "python",
   "nbconvert_exporter": "python",
   "pygments_lexer": "ipython3",
   "version": "3.7.3"
  }
 },
 "nbformat": 4,
 "nbformat_minor": 2
}

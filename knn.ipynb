{
 "cells": [
  {
   "cell_type": "code",
   "execution_count": 4,
   "metadata": {},
   "outputs": [],
   "source": [
    "# Define KNN Model\n",
    "import numpy as np\n",
    "\n",
    "def knn(x_train, y_train, x_test, k):\n",
    "    predict_label=[]\n",
    "    for j in range(x_test.shape[0]):\n",
    "        dist = []\n",
    "        for i in range(x_train.shape[0]):\n",
    "            dist.append(np.sqrt(np.sum((x_train[i]-x_test[j])**2)))\n",
    "        dist = np.array(dist)\n",
    "        dist_index = dist.argsort()\n",
    "        classCount = {}\n",
    "        for n in range(k):\n",
    "            vote = y_train[dist_index[n]]\n",
    "            classCount[vote] = classCount.get(vote,0)+1\n",
    "        predict_label.append(max(classCount,key=classCount.get))\n",
    "    return predict_label    \n",
    "\n",
    "def knn_accuary_rate(predict_label, y_test):\n",
    "    rate = np.sum(predict_label==y_test)/y_test.shape[0]*100\n",
    "    return rate"
   ]
  },
  {
   "cell_type": "code",
   "execution_count": 5,
   "metadata": {},
   "outputs": [],
   "source": [
    "# input testing data IRIS\n",
    "from sklearn.datasets import load_iris\n",
    "from sklearn.model_selection import train_test_split\n",
    "\n",
    "df = load_iris()\n",
    "X, Y, label = df.data, df.target, df.target_names\n",
    "x_train, x_test, y_train, y_test = train_test_split(X, Y, test_size=1/3, random_state=50)"
   ]
  },
  {
   "cell_type": "code",
   "execution_count": 6,
   "metadata": {},
   "outputs": [
    {
     "name": "stdout",
     "output_type": "stream",
     "text": [
      "Accurate rate is:  98.0\n"
     ]
    }
   ],
   "source": [
    "# test model\n",
    "p = knn(x_train, y_train, x_test, 3)\n",
    "rate = knn_accuary_rate(p, y_test)\n",
    "print(\"Accurate rate is: \", rate)"
   ]
  },
  {
   "cell_type": "code",
   "execution_count": 7,
   "metadata": {},
   "outputs": [
    {
     "name": "stdout",
     "output_type": "stream",
     "text": [
      "Accurate rate is:  96.0\n"
     ]
    }
   ],
   "source": [
    "# Using sk-learn package\n",
    "from sklearn.neighbors import KNeighborsClassifier\n",
    "KNN = KNeighborsClassifier()\n",
    "KNN.fit(x_train, y_train)\n",
    "p = KNN.predict(x_test)\n",
    "print(\"Accurate rate is: \", np.sum(p==y_test)/y_test.shape[0]*100)"
   ]
  },
  {
   "cell_type": "code",
   "execution_count": 22,
   "metadata": {},
   "outputs": [],
   "source": [
    "# input testing data DIGITS\n",
    "from sklearn.datasets import load_digits\n",
    "from sklearn.model_selection import train_test_split\n",
    "\n",
    "df = load_digits()\n",
    "X, Y, label = df.data, df.target, df.target_names\n",
    "x_train, x_test, y_train, y_test = train_test_split(X, Y, test_size=1/3, random_state=50)"
   ]
  },
  {
   "cell_type": "code",
   "execution_count": 25,
   "metadata": {},
   "outputs": [
    {
     "name": "stdout",
     "output_type": "stream",
     "text": [
      "Accurate rate is:  97.49582637729549\n"
     ]
    }
   ],
   "source": [
    "# test model\n",
    "p = knn(x_train, y_train, x_test, 5)\n",
    "rate = knn_accuary_rate(p, y_test)\n",
    "print(\"Accurate rate is: \", rate)"
   ]
  },
  {
   "cell_type": "code",
   "execution_count": 24,
   "metadata": {},
   "outputs": [
    {
     "name": "stdout",
     "output_type": "stream",
     "text": [
      "Accurate rate is:  97.49582637729549\n"
     ]
    }
   ],
   "source": [
    "# Using sk-learn package\n",
    "from sklearn.neighbors import KNeighborsClassifier\n",
    "KNN = KNeighborsClassifier(n_neighbors=5)\n",
    "KNN.fit(x_train, y_train)\n",
    "p = KNN.predict(x_test)\n",
    "print(\"Accurate rate is: \", np.sum(p==y_test)/y_test.shape[0]*100)"
   ]
  },
  {
   "cell_type": "code",
   "execution_count": null,
   "metadata": {},
   "outputs": [],
   "source": []
  }
 ],
 "metadata": {
  "kernelspec": {
   "display_name": "Python 3",
   "language": "python",
   "name": "python3"
  },
  "language_info": {
   "codemirror_mode": {
    "name": "ipython",
    "version": 3
   },
   "file_extension": ".py",
   "mimetype": "text/x-python",
   "name": "python",
   "nbconvert_exporter": "python",
   "pygments_lexer": "ipython3",
   "version": "3.7.3"
  }
 },
 "nbformat": 4,
 "nbformat_minor": 2
}
